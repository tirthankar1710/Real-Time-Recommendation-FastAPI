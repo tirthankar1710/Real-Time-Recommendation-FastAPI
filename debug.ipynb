{
 "cells": [
  {
   "cell_type": "code",
   "execution_count": 1,
   "metadata": {},
   "outputs": [],
   "source": [
    "import pandas as pd"
   ]
  },
  {
   "cell_type": "code",
   "execution_count": 2,
   "metadata": {},
   "outputs": [
    {
     "data": {
      "text/plain": [
       "'2025-02-08 16:49:38.795108'"
      ]
     },
     "execution_count": 2,
     "metadata": {},
     "output_type": "execute_result"
    }
   ],
   "source": [
    "from datetime import datetime\n",
    "now= str(datetime.now())"
   ]
  },
  {
   "cell_type": "code",
   "execution_count": 1,
   "metadata": {},
   "outputs": [],
   "source": [
    "s3_event = {'Records': [{'eventVersion': '2.1', 'eventSource': 'aws:s3', 'awsRegion': 'us-east-1', 'eventTime': '2025-02-08T11:47:39.409Z', 'eventName': 'ObjectCreated:Put', 'userIdentity': {'principalId': 'AWS:AIDAXRFGWI4DH5UJICAMD'}, 'requestParameters': {'sourceIPAddress': '49.37.9.137'}, 'responseElements': {'x-amz-request-id': '5S3K0W6MF75RSEAN', 'x-amz-id-2': 'SXNlEEoQmbBIyBNmsaTcQvleEUO4HJ3d9Jfop+9rAKBfSp0JF+x0LB1AHrpZiHrvCsiBU4sK9WT6K1QTof7rQ5ksNFmxoZPxhqVRm/1Kmi4='}, 's3': {'s3SchemaVersion': '1.0', 'configurationId': 'ml_recommendation_model_reload', 'bucket': {'name': 'ml-recommendation-capstone', 'ownerIdentity': {'principalId': 'A2BKW9B9L9VBRG'}, 'arn': 'arn:aws:s3:::ml-recommendation-capstone'}, 'object': {'key': 'event_trigger/event_trigger_2025-02-08+17%3A17%3A38.209621.json', 'size': 39, 'eTag': '79cf5a4b1581e5ffc4f1169a163cfa6e', 'sequencer': '0067A7445B20FCA5F2'}}}]}"
   ]
  },
  {
   "cell_type": "code",
   "execution_count": 14,
   "metadata": {},
   "outputs": [
    {
     "data": {
      "text/plain": [
       "{'Records': [{'eventVersion': '2.1',\n",
       "   'eventSource': 'aws:s3',\n",
       "   'awsRegion': 'us-east-1',\n",
       "   'eventTime': '2025-02-08T11:47:39.409Z',\n",
       "   'eventName': 'ObjectCreated:Put',\n",
       "   'userIdentity': {'principalId': 'AWS:AIDAXRFGWI4DH5UJICAMD'},\n",
       "   'requestParameters': {'sourceIPAddress': '49.37.9.137'},\n",
       "   'responseElements': {'x-amz-request-id': '5S3K0W6MF75RSEAN',\n",
       "    'x-amz-id-2': 'SXNlEEoQmbBIyBNmsaTcQvleEUO4HJ3d9Jfop+9rAKBfSp0JF+x0LB1AHrpZiHrvCsiBU4sK9WT6K1QTof7rQ5ksNFmxoZPxhqVRm/1Kmi4='},\n",
       "   's3': {'s3SchemaVersion': '1.0',\n",
       "    'configurationId': 'ml_recommendation_model_reload',\n",
       "    'bucket': {'name': 'ml-recommendation-capstone',\n",
       "     'ownerIdentity': {'principalId': 'A2BKW9B9L9VBRG'},\n",
       "     'arn': 'arn:aws:s3:::ml-recommendation-capstone'},\n",
       "    'object': {'key': 'event_trigger/event_trigger_2025-02-08+17%3A17%3A38.209621.json',\n",
       "     'size': 39,\n",
       "     'eTag': '79cf5a4b1581e5ffc4f1169a163cfa6e',\n",
       "     'sequencer': '0067A7445B20FCA5F2'}}}]}"
      ]
     },
     "execution_count": 14,
     "metadata": {},
     "output_type": "execute_result"
    }
   ],
   "source": [
    "s3_event"
   ]
  },
  {
   "cell_type": "code",
   "execution_count": 13,
   "metadata": {},
   "outputs": [
    {
     "data": {
      "text/plain": [
       "'event_trigger'"
      ]
     },
     "execution_count": 13,
     "metadata": {},
     "output_type": "execute_result"
    }
   ],
   "source": [
    "s3_event['Records'][0]['s3']['bucket']\n",
    "key = s3_event['Records'][0]['s3']['object']['key']\n",
    "job_id = key.split('/')[0]\n",
    "job_id\n"
   ]
  },
  {
   "cell_type": "code",
   "execution_count": null,
   "metadata": {},
   "outputs": [],
   "source": []
  },
  {
   "cell_type": "code",
   "execution_count": null,
   "metadata": {},
   "outputs": [],
   "source": []
  }
 ],
 "metadata": {
  "kernelspec": {
   "display_name": "fastvenv",
   "language": "python",
   "name": "python3"
  },
  "language_info": {
   "codemirror_mode": {
    "name": "ipython",
    "version": 3
   },
   "file_extension": ".py",
   "mimetype": "text/x-python",
   "name": "python",
   "nbconvert_exporter": "python",
   "pygments_lexer": "ipython3",
   "version": "3.12.2"
  }
 },
 "nbformat": 4,
 "nbformat_minor": 2
}
